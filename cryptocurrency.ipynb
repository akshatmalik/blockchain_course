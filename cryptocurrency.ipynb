{
 "cells": [
  {
   "cell_type": "markdown",
   "metadata": {},
   "source": [
    "# Crypto Currency! "
   ]
  },
  {
   "cell_type": "markdown",
   "metadata": {},
   "source": [
    "## Creating the blockchain"
   ]
  },
  {
   "cell_type": "code",
   "execution_count": 1,
   "metadata": {},
   "outputs": [],
   "source": [
    "import datetime\n",
    "import hashlib\n",
    "import json\n",
    "from flask import Flask, jsonify, request\n",
    "import requests\n",
    "from uuid import uuid4\n",
    "from urllib.parse import urlparse"
   ]
  },
  {
   "cell_type": "markdown",
   "metadata": {},
   "source": [
    "## Part 1: Building a blockchain"
   ]
  },
  {
   "cell_type": "code",
   "execution_count": null,
   "metadata": {},
   "outputs": [],
   "source": [
    "class Blockchain:\n",
    "    \n",
    "    def __init__(self):\n",
    "        self.chain = []\n",
    "        self.transactions = []\n",
    "        self.create_block( proof = 1, previous_hash = \"0\")\n",
    "        self.nodes = set()\n",
    "        \n",
    "    def create_block(self, proof, previous_hash):\n",
    "        blocks = {\n",
    "            \"index\" : len(self.chain) + 1,\n",
    "            \"timestamp\" : str(datetime.datetime.now()),\n",
    "            \"proof\" : proof,\n",
    "            \"previous_hash\" : previous_hash,\n",
    "            \"transactions\" : self.transactions\n",
    "        }\n",
    "        self.transactions = []\n",
    "        self.chain.append(blocks)\n",
    "        return blocks\n",
    "    \n",
    "    def get_previous_block(self):\n",
    "        return self.chain[-1]\n",
    "    \n",
    "    def proof_of_work(self, previous_proof):\n",
    "        \n",
    "        new_proof = 1\n",
    "        check_proof = False\n",
    "        \n",
    "        while check_proof is not True:\n",
    "            hash_operation = hashlib.sha256(str(new_proof**2 - previous_proof**2).encode()).hexdigest()\n",
    "            if hash_operation[:4] == \"0000\":\n",
    "                check_proof = True\n",
    "            else: \n",
    "                new_proof += 1\n",
    "            \n",
    "        return new_proof\n",
    "    \n",
    "    def hash(self, block):\n",
    "        encoded_block = json.dumps(block, sort_keys= True).encode()\n",
    "        return hashlib.sha256(encoded_block).hexdigest()\n",
    "    \n",
    "    def is_chain_valid(self, chain):\n",
    "        previous_block = chain[0]\n",
    "        block_index = 1\n",
    "        while block_index < len(chain):\n",
    "            block = chain[block_index]\n",
    "            if block[\"previous_hash\"] != self.hash(previous_block):\n",
    "                return False\n",
    "            previous_proof = previous_block[\"proof\"]\n",
    "            proof = block[\"proof\"]\n",
    "            hash_operation = hashlib.sha256(str(proof**2 - previous_proof**2).encode()).hexdigest()\n",
    "            if hash_operation[:4] != \"0000\":\n",
    "                return False\n",
    "            previous_block = block\n",
    "            block_index += 1\n",
    "        return True            \n",
    "    \n",
    "    def add_transaction(self, sender, reciever, amount):\n",
    "        self.transactions({\n",
    "            \"sender\" : sender,\n",
    "            \"reciever\" : reciever\n",
    "            \"amount\" : amount\n",
    "        })\n",
    "        \n",
    "        return self.get_previous_block()[\"index\"] + 1\n",
    "    \n",
    "    def add_node(self, address):\n",
    "        parsed_url = urlparse(address)\n",
    "        self.nodes.add(parsed_url.netloc)\n",
    "        \n",
    "    def replace_node(self):\n",
    "        network = self.nodes\n",
    "        longest_chain = None\n",
    "        max_length = len(self.chain)\n",
    "        for node in network:\n",
    "            response = requests.get(f\"http://{node}/get_chain\")\n",
    "            if response.status_code == 200:\n",
    "                length = response.json()[\"length\"]\n",
    "                chain = response.json()[\"chain\"]\n",
    "                if length > max_length and self.is_chain_valid(chain):\n",
    "                    max_length = length\n",
    "                    longest_chain = chain\n",
    "            if longest_chain:\n",
    "                self.chain = chain\n",
    "                return True\n",
    "            else:\n",
    "                return False"
   ]
  },
  {
   "cell_type": "markdown",
   "metadata": {},
   "source": [
    "## Mining the Blockchain\n",
    "1. Creating webapp\n",
    "2. Creating Bitcoin"
   ]
  },
  {
   "cell_type": "markdown",
   "metadata": {},
   "source": [
    "#### Web app"
   ]
  },
  {
   "cell_type": "code",
   "execution_count": null,
   "metadata": {},
   "outputs": [],
   "source": [
    "app = Flask(__name__)"
   ]
  },
  {
   "cell_type": "markdown",
   "metadata": {},
   "source": [
    "#### Create a address for the node on Port 5000"
   ]
  },
  {
   "cell_type": "code",
   "execution_count": null,
   "metadata": {},
   "outputs": [],
   "source": [
    "node_address = str(uuid4().replace(\"-\", \"\"))"
   ]
  },
  {
   "cell_type": "markdown",
   "metadata": {},
   "source": [
    "#### Blockchain"
   ]
  },
  {
   "cell_type": "code",
   "execution_count": null,
   "metadata": {},
   "outputs": [],
   "source": [
    "blockchain = Blockchain()"
   ]
  },
  {
   "cell_type": "code",
   "execution_count": null,
   "metadata": {},
   "outputs": [],
   "source": [
    "@app.route(\"/mine_block\", methods = [\"GET\"])\n",
    "def mine_block():\n",
    "    previous_block = blockchain.get_previous_block()\n",
    "    previous_proof = previous_block[\"proof\"]\n",
    "    proof = blockchain.proof_of_work(previous_proof)\n",
    "    previous_hash = blockchain.hash(previous_block)\n",
    "    blockchain.add_transaction(sender = node_address, reciever = \"Akshat\", amount = 1)\n",
    "    block = blockchain.create_block(proof, previous_hash)\n",
    "    response = {\n",
    "        \"transactions\": block[\"transactions\"],\n",
    "        \"message\" : \"Created the block. \",\n",
    "        \"index\" : block[\"index\"],\n",
    "        \"timestamp\" : block[\"timestamp\"],\n",
    "        \"proof\" : block[\"proof\"],\n",
    "        \"previous_hash\" : block[\"previous_hash\"],\n",
    "    }\n",
    "    return jsonify(response), 200"
   ]
  },
  {
   "cell_type": "code",
   "execution_count": null,
   "metadata": {},
   "outputs": [],
   "source": [
    "@app.route(\"/get_chain\", methods = [\"GET\"])\n",
    "def get_chain():\n",
    "    response = {\n",
    "        \"chain\" : blockchain.chain, \n",
    "        \"length\" : len(blockchain.chain)\n",
    "    }\n",
    "    return jsonify(response), 200"
   ]
  },
  {
   "cell_type": "code",
   "execution_count": null,
   "metadata": {},
   "outputs": [],
   "source": [
    "@app.route(\"/is_valid\", methods = [\"GET\"])\n",
    "def is_valid():\n",
    "    valid = blockchain.is_chain_valid(blockchain.chain)\n",
    "    if valid:\n",
    "        response = {\n",
    "            \"message\" : \"Valid chain\"\n",
    "        }\n",
    "    else:\n",
    "        response = {\n",
    "            \"message\" : \"Invalid chain\"\n",
    "        }\n",
    "    return jsonify(response), 200"
   ]
  },
  {
   "cell_type": "code",
   "execution_count": null,
   "metadata": {},
   "outputs": [],
   "source": [
    "@app.route(\"/add_transaction\", methods = [\"POST\"])\n",
    "def add_transaction():\n",
    "    json = request.get_json()\n",
    "    transaction_keys = [\"sender\", \"reciever\", \"amount\"]\n",
    "    if not all(key in json for key in transaction_keys):\n",
    "        return \"Some elements from the keys are missing\" , 400\n",
    "    index = blockchain.add_transaction(json[\"sender\"], json[\"reciever\"], json[\"amount\"])\n",
    "    response = { \"message\" : f\"This transaction will be added in the block {index}\"}\n",
    "    return jsonify(response), 201"
   ]
  },
  {
   "cell_type": "code",
   "execution_count": null,
   "metadata": {},
   "outputs": [],
   "source": [
    "@app.route(\"/connect_node\", methods = [\"POST\"])\n",
    "def connect_node():\n",
    "    json = request.get_json()\n",
    "    nodes = json.get(\"nodes\")\n",
    "    if nodes is None:\n",
    "        return \"No node\", 201\n",
    "    for node in nodes:\n",
    "        blockchain.add_node(node)\n",
    "    response = {\"message\" : \"All the nodes are conected\",\n",
    "               \"total_nodes\" : list(blockchain.nodes)}\n",
    "    return jsonify(response), 201"
   ]
  },
  {
   "cell_type": "code",
   "execution_count": null,
   "metadata": {},
   "outputs": [],
   "source": [
    "@app.route(\"/replace_chain\", methods = [\"GET\"])\n",
    "def replace_chain():\n",
    "    valid = blockchain.replace_chain()\n",
    "    if valid:\n",
    "        response = {\n",
    "            \"message\" : \"Node had different chain, chain was replace\",\n",
    "            \"new_chain\" : blockchain.chain\n",
    "        }\n",
    "    else:\n",
    "        response = {\n",
    "            \"message\" : \"All good, chain not replace\",\n",
    "            \"actucal_chain\" : blockchain.chain\n",
    "        }\n",
    "    return jsonify(response), 200"
   ]
  }
 ],
 "metadata": {
  "kernelspec": {
   "display_name": "Blockchain",
   "language": "python",
   "name": "myenv"
  },
  "language_info": {
   "codemirror_mode": {
    "name": "ipython",
    "version": 3
   },
   "file_extension": ".py",
   "mimetype": "text/x-python",
   "name": "python",
   "nbconvert_exporter": "python",
   "pygments_lexer": "ipython3",
   "version": "3.7.0"
  }
 },
 "nbformat": 4,
 "nbformat_minor": 2
}
