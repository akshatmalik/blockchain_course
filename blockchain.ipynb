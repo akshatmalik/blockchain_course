{
 "cells": [
  {
   "cell_type": "markdown",
   "metadata": {},
   "source": [
    "# Blockchain! "
   ]
  },
  {
   "cell_type": "markdown",
   "metadata": {},
   "source": [
    "## Creating the blockchain"
   ]
  },
  {
   "cell_type": "code",
   "execution_count": null,
   "metadata": {},
   "outputs": [],
   "source": [
    "import datetime\n",
    "import hashlib\n",
    "import json\n",
    "from flask import Flask, jsonify"
   ]
  },
  {
   "cell_type": "code",
   "execution_count": null,
   "metadata": {},
   "outputs": [],
   "source": [
    "class Blockchain:\n",
    "    \n",
    "    def __init__(self):\n",
    "        self.chain = []\n",
    "        self.create_block( proof = 1, previous_hash = \"0\")\n",
    "        \n",
    "    def create_block(self, proof, previous_hash):\n",
    "        blocks = {\n",
    "            \"index\" : len(self.chain) + 1,\n",
    "            \"timestamp\" : str(datetime.datetime.now()),\n",
    "            \"proof\" : proof,\n",
    "            \"previous_hash\" : previous_hash\n",
    "        }\n",
    "        self.chain.append(blocks)\n",
    "        return blocks\n",
    "    \n",
    "    def get_previous_block(self):\n",
    "        return self.chain[-1]\n",
    "    \n",
    "    def proof_of_work(self, previous_proof):\n",
    "        \n",
    "        new_proof = 1\n",
    "        check_proof = False\n",
    "        \n",
    "        while check_proof is not True:\n",
    "            hash_operation = hashlib.sha256(str(new_proof**2 - previous_proof**2).encode()).hexdigest()\n",
    "            if hash_operation[:4] == \"0000\":\n",
    "                check_proof = True\n",
    "            else: \n",
    "                new_proof += 1\n",
    "            \n",
    "        return new_proof\n",
    "    \n",
    "    def hash(self, block):\n",
    "        encoded_block = json.dumps(block, sort_keys= True).encode()\n",
    "        return hashlib.sha256(encoded_block).hexdigest()\n",
    "    \n",
    "    def is_chain_valid(self, chain):\n",
    "        previous_block = chain[0]\n",
    "        block_index = 1\n",
    "        while block_index < len(chain):\n",
    "            block = chain[block_index]\n",
    "            if block[\"previous_hash\"] != self.hash(previous_block):\n",
    "                return False\n",
    "            previous_proof = previous_block[\"proof\"]\n",
    "            proof = block[\"proof\"]\n",
    "            hash_operation = hashlib.sha256(str(proof**2 - previous_proof**2).encode()).hexdigest()\n",
    "            if hash_operation[:4] != \"0000\":\n",
    "                return False\n",
    "            previous_block = block\n",
    "            block_index += 1\n",
    "        return True            \n",
    "        "
   ]
  },
  {
   "cell_type": "markdown",
   "metadata": {},
   "source": [
    "## Mining the Blockchain\n",
    "1. Creating webapp\n",
    "2. Creating Bitcoin"
   ]
  },
  {
   "cell_type": "markdown",
   "metadata": {},
   "source": [
    "#### Web app"
   ]
  },
  {
   "cell_type": "code",
   "execution_count": null,
   "metadata": {},
   "outputs": [],
   "source": [
    "app = Flask(__name__)"
   ]
  },
  {
   "cell_type": "markdown",
   "metadata": {},
   "source": [
    "#### Blockchain"
   ]
  },
  {
   "cell_type": "code",
   "execution_count": null,
   "metadata": {},
   "outputs": [],
   "source": [
    "blockchain = Blockchain()"
   ]
  },
  {
   "cell_type": "code",
   "execution_count": null,
   "metadata": {},
   "outputs": [],
   "source": [
    "@app.route(\"/mine_block\", methods = [\"GET\"])\n",
    "def mine_block():\n",
    "    previous_block = blockchain.get_previous_block()\n",
    "    previous_proof = previous_block[\"proof\"]\n",
    "    proof = blockchain.proof_of_work(previous_proof)\n",
    "    previous_hash = blockchain.hash(previous_block)\n",
    "    block = blockchain.create_block(proof, previous_hash)\n",
    "    response = {\n",
    "        \"message\" : \"Created the block. \",\n",
    "        \"index\" : block[\"index\"],\n",
    "        \"timestamp\" : block[\"timestamp\"],\n",
    "        \"proof\" : block[\"proof\"],\n",
    "        \"previous_hash\" : block[\"previous_hash\"]\n",
    "    }\n",
    "    return jsonify(response), 200"
   ]
  },
  {
   "cell_type": "code",
   "execution_count": null,
   "metadata": {},
   "outputs": [],
   "source": [
    "@app.route(\"/get_chain\", methods = [\"GET\"])\n",
    "def get_chain():\n",
    "    response = {\n",
    "        \"chain\" : blockchain.chain, \n",
    "        \"length\" : len(blockchain.chain)\n",
    "    }\n",
    "    return jsonify(response), 200"
   ]
  },
  {
   "cell_type": "code",
   "execution_count": null,
   "metadata": {},
   "outputs": [],
   "source": [
    "@app.route(\"/is_valid\", methods = [\"GET\"])\n",
    "def is_valid():\n",
    "    valid = is_chain_valid(blockchain.chain)\n",
    "    if valid:\n",
    "        response = {\n",
    "            \"message\" : \"Valid chain\"\n",
    "        }\n",
    "    else:\n",
    "        response = {\n",
    "            \"message\" : \"Valid chain\"\n",
    "        }\n",
    "    return jsonify(response), 200"
   ]
  },
  {
   "cell_type": "code",
   "execution_count": null,
   "metadata": {},
   "outputs": [],
   "source": [
    "app.run(host = \"0.0.0.0\", port = 5000)"
   ]
  },
  {
   "cell_type": "code",
   "execution_count": null,
   "metadata": {},
   "outputs": [],
   "source": [
    "%run \"blockchain.py\""
   ]
  },
  {
   "cell_type": "code",
   "execution_count": null,
   "metadata": {},
   "outputs": [],
   "source": []
  }
 ],
 "metadata": {
  "kernelspec": {
   "display_name": "Blockchain",
   "language": "python",
   "name": "myenv"
  },
  "language_info": {
   "codemirror_mode": {
    "name": "ipython",
    "version": 3
   },
   "file_extension": ".py",
   "mimetype": "text/x-python",
   "name": "python",
   "nbconvert_exporter": "python",
   "pygments_lexer": "ipython3",
   "version": "3.7.0"
  }
 },
 "nbformat": 4,
 "nbformat_minor": 2
}
